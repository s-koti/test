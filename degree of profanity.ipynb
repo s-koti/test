{
 "cells": [
  {
   "cell_type": "code",
   "execution_count": 59,
   "metadata": {},
   "outputs": [],
   "source": [
    "import numpy as np"
   ]
  },
  {
   "cell_type": "code",
   "execution_count": 60,
   "metadata": {},
   "outputs": [],
   "source": [
    "def dof(Tw,Sl):\n",
    "    \n",
    "    T= open(Tw, 'r').read() #tweets to strings\n",
    "    tweets = T.splitlines()\n",
    "    \n",
    "    S = open(Sl, 'r').read() #slurs to strings\n",
    "    slurs = S.splitlines() \n",
    "    \n",
    "    #Initialise degree of profanity for each tweet as 0\n",
    "    prof=np.empty(len(tweets), dtype=int)\n",
    "    for i in range(0,len(tweets)): \n",
    "        prof[i]= 0  \n",
    "\n",
    "   \n",
    "    #Making our checking case insensitive\n",
    "    ltweets=[x.lower() for x in tweets]\n",
    "    lslurs=[x.lower() for x in slurs]\n",
    "    \n",
    "    #Check each tweet for racial slurs\n",
    "    for i in range(0,len(ltweets)): \n",
    "        for j in range(0,len(lslurs)):\n",
    "             if(lslurs[j] in ltweets[i]):\n",
    "                    prof[i] = prof[i]+1\n",
    "            \n",
    "    for i in range(0, len(ltweets)):\n",
    "        print(\"The degree of profanity of tweet\",i+1,\"is: \", prof[i])"
   ]
  },
  {
   "cell_type": "code",
   "execution_count": 61,
   "metadata": {
    "scrolled": true
   },
   "outputs": [
    {
     "name": "stdout",
     "output_type": "stream",
     "text": [
      "The degree of profanity of tweet 1 is:  3\n",
      "The degree of profanity of tweet 2 is:  1\n",
      "The degree of profanity of tweet 3 is:  1\n"
     ]
    }
   ],
   "source": [
    "dof('tweets.txt','slurs.txt')"
   ]
  }
 ],
 "metadata": {
  "kernelspec": {
   "display_name": "Python 3",
   "language": "python",
   "name": "python3"
  },
  "language_info": {
   "codemirror_mode": {
    "name": "ipython",
    "version": 3
   },
   "file_extension": ".py",
   "mimetype": "text/x-python",
   "name": "python",
   "nbconvert_exporter": "python",
   "pygments_lexer": "ipython3",
   "version": "3.6.5"
  }
 },
 "nbformat": 4,
 "nbformat_minor": 2
}
